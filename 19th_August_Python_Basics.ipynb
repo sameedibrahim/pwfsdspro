{
 "cells": [
  {
   "cell_type": "markdown",
   "id": "ba073964",
   "metadata": {},
   "source": [
    "### Basic variable based questions \n",
    "1. Declare two variables, `x` and `y`, and assign them integer values. Swap the values of these variables without using any temporary variable.\n"
   ]
  },
  {
   "cell_type": "code",
   "execution_count": 1,
   "id": "15a83412",
   "metadata": {},
   "outputs": [
    {
     "name": "stdout",
     "output_type": "stream",
     "text": [
      "20\n",
      "10\n"
     ]
    }
   ],
   "source": [
    "x=10\n",
    "y=20\n",
    "\n",
    "x,y=y,x\n",
    "\n",
    "print(x)\n",
    "print(y)"
   ]
  },
  {
   "cell_type": "markdown",
   "id": "e4751bba",
   "metadata": {},
   "source": [
    "2. Create a program that calculates the area of a rectangle. Take the length and width as inputs from the user and store them in variables. Calculate and display the area."
   ]
  },
  {
   "cell_type": "code",
   "execution_count": 4,
   "id": "38444484",
   "metadata": {},
   "outputs": [
    {
     "name": "stdout",
     "output_type": "stream",
     "text": [
      "Enter length of the rectangle:20.2\n",
      "Enter width of the rectangle:65.5\n",
      "Area of the rectangle = 1323.1\n"
     ]
    }
   ],
   "source": [
    "length=float(input(\"Enter length of the rectangle:\"))\n",
    "width=float(input(\"Enter width of the rectangle:\"))\n",
    "\n",
    "area=length*width\n",
    "\n",
    "print(\"Area of the rectangle =\",area)"
   ]
  },
  {
   "cell_type": "markdown",
   "id": "8f1f33f8",
   "metadata": {},
   "source": [
    "3. Write a Python program that converts temperatures from Celsius to Fahrenheit. Take the temperature in Celsius as input, store it in a variable, convert it to Fahrenheit, and display the result."
   ]
  },
  {
   "cell_type": "code",
   "execution_count": 5,
   "id": "ce56c715",
   "metadata": {},
   "outputs": [
    {
     "name": "stdout",
     "output_type": "stream",
     "text": [
      "Enter the temperature in Celsius :28.5\n",
      "Temperature in Fahrenheit : 83.30000000000001\n"
     ]
    }
   ],
   "source": [
    "temp=float(input(\"Enter the temperature in Celsius :\"))\n",
    "\n",
    "tempF=(temp*(9/5))+32        #celsius to fahrenheit formula\n",
    "\n",
    "print(\"Temperature in Fahrenheit :\",tempF)"
   ]
  },
  {
   "cell_type": "markdown",
   "id": "54575f20",
   "metadata": {},
   "source": [
    "### String based questions \n",
    "1. Write a Python program that takes a string as input and prints the length of the string.\n"
   ]
  },
  {
   "cell_type": "code",
   "execution_count": 6,
   "id": "808800e8",
   "metadata": {},
   "outputs": [
    {
     "name": "stdout",
     "output_type": "stream",
     "text": [
      "enter your string:hi, hope you're doing good\n",
      "The length of the string is 26\n"
     ]
    }
   ],
   "source": [
    "string=input(\"enter your string:\")\n",
    "\n",
    "print(\"The length of the string is\",len(string))"
   ]
  },
  {
   "cell_type": "markdown",
   "id": "87a724c4",
   "metadata": {},
   "source": [
    "2.Create a program that takes a sentence from the user and counts the number of vowels (a, e, i, o, u) in the string."
   ]
  },
  {
   "cell_type": "code",
   "execution_count": 7,
   "id": "40cc8200",
   "metadata": {},
   "outputs": [
    {
     "name": "stdout",
     "output_type": "stream",
     "text": [
      "enter your string:hi how are you?\n",
      "The number of vowels in the given sentence is : 6\n"
     ]
    }
   ],
   "source": [
    "sentence=input(\"enter your string:\")\n",
    "\n",
    "low_sentence=sentence.lower()\n",
    "\n",
    "count=0\n",
    "\n",
    "vowels=['a','e','i','o','u']\n",
    "\n",
    "for letter in low_sentence:\n",
    "    if letter in vowels:\n",
    "        count += 1\n",
    "\n",
    "print(\"The number of vowels in the given sentence is :\",count)"
   ]
  },
  {
   "cell_type": "markdown",
   "id": "c2b7cf25",
   "metadata": {},
   "source": [
    "3. Given a string, reverse the order of characters using string slicing and print the reversed string.\n"
   ]
  },
  {
   "cell_type": "code",
   "execution_count": 8,
   "id": "073a3750",
   "metadata": {},
   "outputs": [
    {
     "name": "stdout",
     "output_type": "stream",
     "text": [
      "tnemngissa tsrif ym si siht\n"
     ]
    }
   ],
   "source": [
    "string=\"this is my first assignment\"\n",
    "\n",
    "reverse_string=string[::-1]\n",
    "\n",
    "print(reverse_string)"
   ]
  },
  {
   "cell_type": "markdown",
   "id": "f77e6e9f",
   "metadata": {},
   "source": [
    "4. Write a program that takes a string as input and checks if it is a palindrome (reads the same forwards and backwards)."
   ]
  },
  {
   "cell_type": "code",
   "execution_count": 9,
   "id": "e1154cba",
   "metadata": {},
   "outputs": [
    {
     "name": "stdout",
     "output_type": "stream",
     "text": [
      "malayalam\n",
      "malayalam\n",
      "malayalam is a palindrome\n"
     ]
    }
   ],
   "source": [
    "string=input()\n",
    "\n",
    "clean_string=string.replace(\" \",\"\").lower()\n",
    "reverse_string=clean_string[::-1]\n",
    "print(reverse_string)\n",
    "\n",
    "if clean_string==reverse_string:\n",
    "    print(string,\"is a palindrome\")\n",
    "    \n",
    "else:\n",
    "    print(string,\"is not a palindrome\")"
   ]
  },
  {
   "cell_type": "markdown",
   "id": "933115e2",
   "metadata": {},
   "source": [
    "5. Create a program that takes a string as input and removes all the spaces from it. Print the modified string without spaces."
   ]
  },
  {
   "cell_type": "code",
   "execution_count": 10,
   "id": "6afce1ed",
   "metadata": {},
   "outputs": [
    {
     "name": "stdout",
     "output_type": "stream",
     "text": [
      "Enter your sentence:hi am doing good, how are you?\n",
      "String without spaces:  hiamdoinggood,howareyou?\n"
     ]
    }
   ],
   "source": [
    "str1 = input(\"Enter your sentence:\") \n",
    "\n",
    "#replacing space character with blank  \n",
    "str1 = str1.replace(\" \",\"\");  \n",
    "          \n",
    "print(\"String without spaces: \",str1); "
   ]
  },
  {
   "cell_type": "code",
   "execution_count": null,
   "id": "b4da8444",
   "metadata": {},
   "outputs": [],
   "source": []
  }
 ],
 "metadata": {
  "kernelspec": {
   "display_name": "Python 3",
   "language": "python",
   "name": "python3"
  },
  "language_info": {
   "codemirror_mode": {
    "name": "ipython",
    "version": 3
   },
   "file_extension": ".py",
   "mimetype": "text/x-python",
   "name": "python",
   "nbconvert_exporter": "python",
   "pygments_lexer": "ipython3",
   "version": "3.8.8"
  }
 },
 "nbformat": 4,
 "nbformat_minor": 5
}
